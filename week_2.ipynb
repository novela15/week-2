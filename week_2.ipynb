{
  "nbformat": 4,
  "nbformat_minor": 0,
  "metadata": {
    "colab": {
      "provenance": []
    },
    "kernelspec": {
      "name": "python3",
      "display_name": "Python 3"
    },
    "language_info": {
      "name": "python"
    }
  },
  "cells": [
    {
      "cell_type": "markdown",
      "source": [
        "# **Weekly 1**"
      ],
      "metadata": {
        "id": "5dp8HTfeZoVu"
      }
    },
    {
      "cell_type": "code",
      "execution_count": null,
      "metadata": {
        "colab": {
          "base_uri": "https://localhost:8080/"
        },
        "id": "qQoWYuVHBxmK",
        "outputId": "bfc3fd54-df76-42e7-a8a2-e1a47e0ccf2f"
      },
      "outputs": [
        {
          "output_type": "stream",
          "name": "stdout",
          "text": [
            "Panjang = 20.5\n",
            "Lebar = 25\n",
            "Tinggi = 10\n",
            "Keliling = 91.0\n",
            "Luas = 512.5\n",
            "Volume = 5125.0\n"
          ]
        }
      ],
      "source": [
        "panjang = 20.5\n",
        "lebar = 25\n",
        "tinggi = 10\n",
        "\n",
        "keliling = 2 * (panjang + lebar)\n",
        "luas = panjang * lebar\n",
        "volume = panjang * lebar * tinggi\n",
        "\n",
        "print(\"Panjang =\", panjang)\n",
        "print(\"Lebar =\", lebar)\n",
        "print(\"Tinggi =\", tinggi)\n",
        "print(\"Keliling =\", keliling)\n",
        "print(\"Luas =\", luas)\n",
        "print(\"Volume =\", volume)"
      ]
    },
    {
      "cell_type": "markdown",
      "source": [
        "# **Weekly 2**"
      ],
      "metadata": {
        "id": "gVzxSojpaGag"
      }
    },
    {
      "cell_type": "code",
      "source": [
        "#1. Rata-rata nilai Shafira pada kedua mata kuliah\n",
        "ratarata_shafira = (85+75) /2\n",
        "print('Rata-rata nilai shafira =',ratarata_shafira)\n",
        "#2. Jumlah nilai Hanif dan Andi untuk semua mata kuliah\n",
        "nilai_HA = 75+90+70+75\n",
        "print('Nilai Hanif dan Andi untuk semua matkul =',nilai_HA)\n",
        "#3. Rata-rata nilai Widya, Dhanar, Hikma dan Nedia pada masing-masing mata kuliah\n",
        "ratarata_nilai_kalkulus_WDHN = (85+85+80+95)/4\n",
        "print('Rata-rata nilai kalkulus WDHN =',ratarata_nilai_kalkulus_WDHN)\n",
        "ratarata_nilai_statistika_WDHN = (85+85+75+80)/4\n",
        "print('Rata-rata nilai statistika WDHN =',ratarata_nilai_statistika_WDHN)\n",
        "#4. Rata-rata nilai mata kuliah Kalkulus 1 untuk semua mahasiswa\n",
        "ratarata_nilai_kalkulus_semua = (85+80+75+95+85+75+70+85+80)/9\n",
        "print('Rata-rata nilai kalkulus semua =',ratarata_nilai_kalkulus_semua)\n",
        "#5. Rata-rata nilai mata kuliah Metode Statistika untuk semua mahasiswa\n",
        "ratarata_nilai_statistika_semua = (75+90+80+80+85+90+75+85+75)/9\n",
        "print('Rata-rata nilai statistika semua =',ratarata_nilai_statistika_semua)"
      ],
      "metadata": {
        "colab": {
          "base_uri": "https://localhost:8080/"
        },
        "id": "tkUDuNKsaJb8",
        "outputId": "8f3c5841-b25b-49f4-9f9c-edfaf2f67278"
      },
      "execution_count": 19,
      "outputs": [
        {
          "output_type": "stream",
          "name": "stdout",
          "text": [
            "Rata-rata nilai shafira = 80.0\n",
            "Nilai Hanif dan Andi untuk semua matkul = 310\n",
            "Rata-rata nilai kalkulus WDHN = 86.25\n",
            "Rata-rata nilai statistika WDHN = 81.25\n",
            "Rata-rata nilai kalkulus semua = 81.11111111111111\n",
            "Rata-rata nilai statistika semua = 81.66666666666667\n"
          ]
        }
      ]
    },
    {
      "cell_type": "markdown",
      "source": [
        "# **Weekly 3**"
      ],
      "metadata": {
        "id": "Q5Vr1xHDikeA"
      }
    },
    {
      "cell_type": "code",
      "source": [
        "gaji_bulan_agustus = (31-3)*8*30000\n",
        "print('gaji bulan agustus =',gaji_bulan_agustus)\n",
        "tunjangan = (gaji_bulan_agustus*10/100)\n",
        "print('tunjangan bulan agustus =', tunjangan)\n",
        "total_gaji = gaji_bulan_agustus + tunjangan + 5*10000\n",
        "print('total gaji bulan agustus =',total_gaji)"
      ],
      "metadata": {
        "colab": {
          "base_uri": "https://localhost:8080/"
        },
        "id": "iJ8qL1fjipfh",
        "outputId": "45b4110d-0ddc-4b26-9986-4a69e1e408fc"
      },
      "execution_count": 15,
      "outputs": [
        {
          "output_type": "stream",
          "name": "stdout",
          "text": [
            "gaji bulan agustus = 6720000\n",
            "tunjangan bulan agustus = 672000.0\n",
            "total gaji bulan agustus = 7442000.0\n"
          ]
        }
      ]
    }
  ]
}